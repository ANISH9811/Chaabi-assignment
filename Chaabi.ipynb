{
 "cells": [
  {
   "cell_type": "code",
   "execution_count": 1,
   "id": "37e00a3c",
   "metadata": {},
   "outputs": [
    {
     "name": "stdout",
     "output_type": "stream",
     "text": [
      "The sorted array is:\n",
      "[5, 15, 21, 54, 416, 741, 6135]\n"
     ]
    }
   ],
   "source": [
    "#Answer1)\n",
    "def selectionSort(arr, size):\n",
    "\t\n",
    "\tfor i in range(size):\n",
    "\t\tmin_index = i\n",
    "\n",
    "\t\tfor j in range(i + 1, size):\n",
    "\t\t\tif arr[j] < arr[min_index]:\n",
    "\t\t\t\tmin_index = j\n",
    "\t\t(arr[i], arr[min_index]) = (arr[min_index], arr[i])\n",
    "\n",
    "arr = [5,416,54,21,6135,15,741]\n",
    "size = len(arr)\n",
    "selectionSort(arr, size)\n",
    "print('The sorted array is:')\n",
    "print(arr)\n"
   ]
  },
  {
   "cell_type": "code",
   "execution_count": 2,
   "id": "67368ca5",
   "metadata": {},
   "outputs": [
    {
     "name": "stdout",
     "output_type": "stream",
     "text": [
      "{'abc.jpg': 'image', 'xyz.xls': 'spreadsheet', 'text.csv': 'unknown', '123': 'unknown'}\n"
     ]
    }
   ],
   "source": [
    "#Answer2) \n",
    "def get_file_type(extension_type_str, file_list):\n",
    "    extension_type_dict = {}\n",
    "    for item in extension_type_str.split(';'):\n",
    "        extension, file_type = item.split(',')\n",
    "        extension_type_dict[extension] = file_type\n",
    "    file_type_dict = {}\n",
    "    for filename in file_list:\n",
    "        extension = filename.split('.')[-1]\n",
    "        file_type = extension_type_dict.get(extension, 'unknown')\n",
    "        file_type_dict[filename] = file_type\n",
    "    \n",
    "    return file_type_dict\n",
    "\n",
    "\n",
    "extension_type_str = \"xls,spreadsheet;xlsx,spreadsheet;jpg,image\"\n",
    "file_list = [\"abc.jpg\", \"xyz.xls\", \"text.csv\", \"123\"]\n",
    "result = get_file_type(extension_type_str, file_list)\n",
    "print(result)\t\n"
   ]
  },
  {
   "cell_type": "code",
   "execution_count": 3,
   "id": "ab72a10b",
   "metadata": {},
   "outputs": [
    {
     "name": "stdout",
     "output_type": "stream",
     "text": [
      "[{'fruit': 'apple', 'color': 'red'}, {'fruit': 'banana', 'color': 'yellow'}, {'fruit': 'blueberry', 'color': 'blue'}, {'fruit': 'orange', 'color': 'orange'}]\n",
      "[{'fruit': 'blueberry', 'color': 'blue'}, {'fruit': 'orange', 'color': 'orange'}, {'fruit': 'apple', 'color': 'red'}, {'fruit': 'banana', 'color': 'yellow'}]\n"
     ]
    }
   ],
   "source": [
    "#answer 3)\n",
    "def sort_list_of_dicts(list_of_dicts, key):\n",
    "    sorted_list = sorted(list_of_dicts, key=lambda x: x[key])\n",
    "    return sorted_list\n",
    "\n",
    "\n",
    "input_list = [\n",
    "    {\"fruit\": \"orange\", \"color\": \"orange\"},\n",
    "    {\"fruit\": \"apple\", \"color\": \"red\"},\n",
    "    {\"fruit\": \"banana\", \"color\": \"yellow\"},\n",
    "    {\"fruit\": \"blueberry\", \"color\": \"blue\"}\n",
    "]\n",
    "\n",
    "sorted_list = sort_list_of_dicts(input_list, \"fruit\")\n",
    "print(sorted_list)\n",
    "\n",
    "sorted_list = sort_list_of_dicts(input_list, \"color\")\n",
    "print(sorted_list)\n"
   ]
  },
  {
   "cell_type": "code",
   "execution_count": 4,
   "id": "a6e7a593",
   "metadata": {},
   "outputs": [
    {
     "name": "stdout",
     "output_type": "stream",
     "text": [
      "{'value1': 'key1', 'value2': 'key2', 'value3': 'key3', 'value4': 'key4', 'value5': 'key5'}\n"
     ]
    }
   ],
   "source": [
    "#answer 4)\n",
    "def switch_key_value(dictionary):\n",
    "    return {value: key for key, value in dictionary.items()}\n",
    "\n",
    "input_dict = {\n",
    "    \"key1\": \"value1\",\n",
    "    \"key2\": \"value2\",\n",
    "    \"key3\": \"value3\",\n",
    "    \"key4\": \"value4\",\n",
    "    \"key5\": \"value5\"\n",
    "}\n",
    "\n",
    "switched_dict = switch_key_value(input_dict)\n",
    "print(switched_dict)\n"
   ]
  },
  {
   "cell_type": "code",
   "execution_count": 5,
   "id": "2d71d953",
   "metadata": {},
   "outputs": [
    {
     "name": "stdout",
     "output_type": "stream",
     "text": [
      "['Attack On Titan', 'One Piece']\n",
      "['Full Metal Alchemist', 'Bleach', 'Death Note', 'One Punch Man', 'Code Geass', 'Dragon Ball Z', 'The Devil is a Part Timer!', 'Sword Art Online', \"Stein's Gate\"]\n"
     ]
    }
   ],
   "source": [
    "#answer 5)\n",
    "def compare_lists(list1, list2):\n",
    "    common_elements = list(set(list1) & set(list2))\n",
    "    different_elements = list(set(list1) ^ set(list2))\n",
    "    return common_elements, different_elements\n",
    "\n",
    "\n",
    "Mainstream = [\"One Punch Man\", \"Attack On Titan\", \"One Piece\", \"Sword Art Online\", \"Bleach\", \"Dragon Ball Z\", \"One Piece\"]\n",
    "must_watch = [\"Full Metal Alchemist\", \"Code Geass\", \"Death Note\", \"Stein's Gate\", \"The Devil is a Part Timer!\", \"One Piece\", \"Attack On Titan\"]\n",
    "\n",
    "common, different = compare_lists(Mainstream, must_watch)\n",
    "print(common)\n",
    "print(different)\n"
   ]
  },
  {
   "cell_type": "code",
   "execution_count": 6,
   "id": "fe7c0054",
   "metadata": {},
   "outputs": [
    {
     "name": "stdout",
     "output_type": "stream",
     "text": [
      "[5, 11, 17, 23]\n"
     ]
    }
   ],
   "source": [
    "#answer 6) \n",
    "lst = [2, 3, 5, 7, 11, 13, 17, 19, 23, 29, 31, 37, 41]\n",
    "start_index = 2\n",
    "end_index = 9\n",
    "\n",
    "print(lst[start_index:end_index+1:2])\n"
   ]
  },
  {
   "cell_type": "code",
   "execution_count": 7,
   "id": "d762b4b6",
   "metadata": {},
   "outputs": [
    {
     "name": "stdout",
     "output_type": "stream",
     "text": [
      "The factorial of 9 is: 362880\n"
     ]
    }
   ],
   "source": [
    "#answer 7)\n",
    "factorial = lambda n: 1 if n == 0 else n * factorial(n - 1)\n",
    "num = 9\n",
    "result = factorial(num)\n",
    "print(f\"The factorial of {num} is: {result}\")\n"
   ]
  },
  {
   "cell_type": "markdown",
   "id": "f8c6d5c5",
   "metadata": {},
   "source": [
    "#answer 8)\n",
    "The final value of A0 is {'a': 1, 'b': 2, 'c': 3, 'd': 4, 'e': 5}\n",
    "The final value of A1 is range(0, 10).\n",
    "The final value of A2 is [1, 2, 3, 4, 5].\n",
    "The final value of A3 is [1, 2, 3, 4, 5].\n",
    "The final value of A4 is [1, 2, 3, 4, 5].\n",
    "The final value of A5 is {0: 0, 1: 1, 2: 4, 3: 9, 4: 16, 5: 25, 6: 36, 7: 49, 8: 64, 9: 81}. \n",
    "The final value of A6 is [[0, 0], [1, 1], [2, 4], [3, 9], [4, 16], [5, 25], [6, 36], [7, 49], [8, 64], [9, 81]].\n",
    "The final value of A7 is 21.\n",
    "The final value of A8 is [2, 4, 6, 8].\n",
    "The final value of A9 would be ['want', 'learn', 'python']."
   ]
  },
  {
   "cell_type": "code",
   "execution_count": 8,
   "id": "776975ba",
   "metadata": {},
   "outputs": [
    {
     "name": "stdout",
     "output_type": "stream",
     "text": [
      "True\n"
     ]
    }
   ],
   "source": [
    "#answer 9) \n",
    "from datetime import datetime, timedelta\n",
    "def check_date_difference(from_date, to_date, difference):\n",
    "    from_date_obj = datetime.strptime(from_date, '%y-%m-%d')\n",
    "    to_date_obj = datetime.strptime(to_date, '%y-%m-%d')\n",
    "    date_diff = (to_date_obj - from_date_obj).days\n",
    "    if date_diff < difference:\n",
    "        return True\n",
    "    else:\n",
    "        return False\n",
    "from_date = '21-01-01'\n",
    "to_date = '21-01-10'\n",
    "difference = 15\n",
    "\n",
    "result = check_date_difference(from_date, to_date, difference)\n",
    "print(result)"
   ]
  },
  {
   "cell_type": "code",
   "execution_count": 9,
   "id": "a693a3dc",
   "metadata": {},
   "outputs": [
    {
     "name": "stdout",
     "output_type": "stream",
     "text": [
      "16-11-29\n"
     ]
    }
   ],
   "source": [
    "#answer 10)\n",
    "from datetime import datetime, timedelta\n",
    "\n",
    "def get_date_before(date, n):\n",
    "    date_obj = datetime.strptime(date, '%y-%m-%d')\n",
    "    date_before = date_obj - timedelta(days=n)\n",
    "    date_before_str = date_before.strftime('%y-%m-%d')\n",
    "    return date_before_str\n",
    "date = '16-12-10'\n",
    "n = 11\n",
    "\n",
    "result = get_date_before(date, n)\n",
    "print(result)  \n"
   ]
  },
  {
   "cell_type": "code",
   "execution_count": 10,
   "id": "331d1c0f",
   "metadata": {},
   "outputs": [
    {
     "name": "stdout",
     "output_type": "stream",
     "text": [
      "[0, 1]\n",
      "[3, 2, 1, 0, 1, 4]\n",
      "[0, 1, 0, 1, 4]\n"
     ]
    }
   ],
   "source": [
    "#answer 11)\n",
    "def f(x, l=[]):\n",
    "    for i in range(x):\n",
    "        l.append(i * i)\n",
    "    print(l)\n",
    "\n",
    "f(2)\n",
    "f(3, [3, 2, 1])\n",
    "f(3)"
   ]
  },
  {
   "cell_type": "code",
   "execution_count": null,
   "id": "30b76861",
   "metadata": {},
   "outputs": [],
   "source": []
  }
 ],
 "metadata": {
  "kernelspec": {
   "display_name": "Python 3 (ipykernel)",
   "language": "python",
   "name": "python3"
  },
  "language_info": {
   "codemirror_mode": {
    "name": "ipython",
    "version": 3
   },
   "file_extension": ".py",
   "mimetype": "text/x-python",
   "name": "python",
   "nbconvert_exporter": "python",
   "pygments_lexer": "ipython3",
   "version": "3.10.9"
  }
 },
 "nbformat": 4,
 "nbformat_minor": 5
}
